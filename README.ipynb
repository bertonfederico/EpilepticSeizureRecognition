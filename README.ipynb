{
 "cells": [
  {
   "cell_type": "markdown",
   "metadata": {},
   "source": [
    "# 🏥 Epileptic Seizure Recognition"
   ]
  },
  {
   "cell_type": "markdown",
   "metadata": {},
   "source": [
    "## 🚿 Data import and cleaning"
   ]
  },
  {
   "cell_type": "code",
   "execution_count": null,
   "metadata": {},
   "outputs": [],
   "source": [
    "import pandas as pd\n",
    "\n",
    "# Loading\n",
    "data = pd.read_csv('../../Dataset/data.csv')\n",
    "\n",
    "# Removing first column (not useful)\n",
    "data.drop('Unnamed', axis=1, inplace=True)"
   ]
  },
  {
   "cell_type": "markdown",
   "metadata": {},
   "source": [
    "## 👀 Data Observation"
   ]
  },
  {
   "cell_type": "markdown",
   "metadata": {},
   "source": [
    "### y diffences"
   ]
  },
  {
   "cell_type": "code",
   "execution_count": null,
   "metadata": {},
   "outputs": [],
   "source": [
    "import matplotlib.pyplot as plt\n",
    "import seaborn as sns\n",
    "\n",
    "sns.set_style(\"whitegrid\")\n",
    "    \n",
    "n = 3\n",
    "data_y_1 = data[data['y'] == 1][:n]\n",
    "data_y_2 = data[data['y'] == 2][:n]\n",
    "data_y_3 = data[data['y'] == 3][:n]\n",
    "data_y_4 = data[data['y'] == 4][:n]\n",
    "data_y_5 = data[data['y'] == 5][:n]\n",
    "samples_to_show = pd.concat([data_y_1, data_y_2, data_y_3, data_y_4, data_y_5], axis=0, ignore_index=True)\n",
    "\n",
    "# Creating a dataframe with one row for each value of X\n",
    "df_splitted_seizure_short = (samples_to_show\n",
    "                .melt(id_vars=['y'], var_name='time_label', value_name='EEG', ignore_index=False)\n",
    "                .reset_index()\n",
    "                .rename(columns={'index': 'id'})\n",
    "            )\n",
    "\n",
    "# Getting time_index column from time_label\n",
    "df_splitted_seizure_short['time_label'] = (df_splitted_seizure_short['time_label'].str.translate(str.maketrans('', '', 'X')).astype(int))\n",
    "\n",
    "# Creating and showing the graph\n",
    "g = sns.relplot(\n",
    "    palette=sns.color_palette(n_colors=15),\n",
    "    data=df_splitted_seizure_short,\n",
    "    kind='line',\n",
    "    x='time_label',\n",
    "    y='EEG',\n",
    "    col='y'\n",
    ")\n",
    "g.fig.subplots_adjust(top=.9, left=.07)\n",
    "g.fig.suptitle(\"y differences\")\n",
    "g.fig.set_size_inches(13, 5)\n",
    "plt.legend([], [], frameon=False)\n",
    "plt.show()"
   ]
  },
  {
   "cell_type": "markdown",
   "metadata": {},
   "source": [
    "<img src=\"Server\\outputImg\\y_inspection\\y_differences.png\" style=\"width:99%\">"
   ]
  },
  {
   "cell_type": "markdown",
   "metadata": {},
   "source": [
    "### y numbers"
   ]
  },
  {
   "cell_type": "code",
   "execution_count": null,
   "metadata": {},
   "outputs": [],
   "source": [
    "# Checking the number of rows for each value of y\n",
    "data_y_1 = data[data['y'] == 1]\n",
    "data_y_2 = data[data['y'] == 2]\n",
    "data_y_3 = data[data['y'] == 3]\n",
    "data_y_4 = data[data['y'] == 4]\n",
    "data_y_5 = data[data['y'] == 5]\n",
    "\n",
    "\n",
    "labels = 'y = 1', 'y = 2', 'y = 3', 'y = 4', 'y = 5'\n",
    "sizes = [len(data_y_1.index), len(data_y_2.index), len(data_y_3.index), len(data_y_4.index), len(data_y_5.index)]\n",
    "fig, ax = plt.subplots()\n",
    "ax.pie(sizes, labels=labels, autopct='%1.1f%%')\n",
    "fig.suptitle(\"Number of rows for each value of y\")\n",
    "plt.show()"
   ]
  },
  {
   "cell_type": "markdown",
   "metadata": {},
   "source": [
    "<img src=\"Server\\outputImg\\y_inspection\\row_number.png\" style=\"width:40%\">"
   ]
  },
  {
   "cell_type": "markdown",
   "metadata": {},
   "source": [
    "## 📉 Exploratory Data Analysis: examples"
   ]
  },
  {
   "cell_type": "markdown",
   "metadata": {},
   "source": [
    "### Heatmap"
   ]
  },
  {
   "cell_type": "code",
   "execution_count": null,
   "metadata": {},
   "outputs": [],
   "source": [
    "import seaborn as sns\n",
    "import numpy as np\n",
    "\n",
    "data['y'] = np.where(data['y'] == 1, 1, 0)\n",
    "data['y'] = np.where(data['y'] == 1, 'Epileptic', 'Non-epileptic')\n",
    "dataframe = (data\n",
    "                .melt(id_vars=['y'], var_name='time_label', value_name='EEG', ignore_index=False)\n",
    "                .reset_index()\n",
    "                .rename(columns={'index': 'id'})\n",
    "            )\n",
    "dataframe['time_label'] = (dataframe['time_label'].str.translate(str.maketrans('', '', 'X')).astype(int))\n",
    "\n",
    "dataframe['y'] = np.where(dataframe['y'] == 'Epileptic', 1, 0)\n",
    "sns.heatmap(dataframe.corr())\n",
    "plt.title(\"Heatmap\")\n",
    "plt.show()"
   ]
  },
  {
   "cell_type": "markdown",
   "metadata": {},
   "source": [
    "<img src=\"Server\\outputImg\\basic\\eeg_heatmap.png\" style=\"width:40%\">"
   ]
  },
  {
   "cell_type": "markdown",
   "metadata": {},
   "source": [
    "### Box plot"
   ]
  },
  {
   "cell_type": "code",
   "execution_count": null,
   "metadata": {},
   "outputs": [],
   "source": [
    "sns.catplot(\n",
    "    data=dataframe.groupby([\"id\", \"y\"]).std().reset_index(),\n",
    "    kind='box',\n",
    "    x='y',\n",
    "    y='EEG',\n",
    ").fig.suptitle(\"Standard deviation\")\n",
    "plt.show()"
   ]
  },
  {
   "cell_type": "markdown",
   "metadata": {},
   "source": [
    "<img src=\"Server\\outputImg\\basic\\eeg_standard_deviation.png\" style=\"width:30%\">"
   ]
  },
  {
   "cell_type": "markdown",
   "metadata": {},
   "source": [
    "### Kernel Density Estimate"
   ]
  },
  {
   "cell_type": "code",
   "execution_count": null,
   "metadata": {},
   "outputs": [],
   "source": [
    "sns.displot(\n",
    "    data=dataframe.groupby([\"id\", \"y\"]).std().reset_index(),\n",
    "    kind='kde',\n",
    "    x='EEG',\n",
    "    hue='y'\n",
    ").fig.suptitle(\"Kernel Density Estimate\")\n",
    "plt.show()"
   ]
  },
  {
   "cell_type": "markdown",
   "metadata": {},
   "source": [
    "<img src=\"Server\\outputImg\\basic\\eeg_kde.png\" style=\"width:40%\">"
   ]
  },
  {
   "cell_type": "markdown",
   "metadata": {},
   "source": [
    "### EEG Altitude"
   ]
  },
  {
   "cell_type": "code",
   "execution_count": null,
   "metadata": {},
   "outputs": [],
   "source": [
    "altitude = data.iloc[:, 0:177]\n",
    "\n",
    "altitude['extreme_min'] = data.min(axis=1, numeric_only=True)\n",
    "altitude['extreme_max'] = data.max(axis=1, numeric_only=True)\n",
    "\n",
    "df_min_max = (altitude.melt(id_vars=['id', 'y'], var_name='min_or_max', value_name='min_max_value', ignore_index=False))\n",
    "ret = sns.relplot(\n",
    "    data=df_min_max,\n",
    "    x='id',\n",
    "    y='min_max_value',\n",
    "    col='y',\n",
    "    hue='min_or_max',\n",
    "    style='min_or_max',\n",
    "    edgecolor='#CCFFFF'\n",
    ")\n",
    "ret.set_xlabels(\"Heartbeat recording\", clear_inner=False)\n",
    "ret.set_ylabels('Extreme min/max altitude' + \" value\", clear_inner=False)\n",
    "ret.fig.subplots_adjust(top=.9)\n",
    "ret.fig.suptitle(\"Extreme min/max altitude value for each heartbeat recording\")\n",
    "ret.set(xticklabels=[])\n",
    "\n",
    "axes = ret.axes.flat[0]\n",
    "axes.axhline(df_min_max[(df_min_max['y'] == 'Non-epileptic') & (df_min_max['min_or_max'] == 'min')]['min_max_value'].mean(), ls='--', linewidth=2, color='red')\n",
    "\n",
    "axes = ret.axes.flat[1]\n",
    "axes.axhline(df_min_max[(df_min_max['y'] == 'Epileptic') & (df_min_max['min_or_max'] == 'min')]['min_max_value'].mean(), ls='--', linewidth=2, color='red')\n",
    "\n",
    "axes = ret.axes.flat[0]\n",
    "axes.axhline(df_min_max[(df_min_max['y'] == 'Non-epileptic') & (df_min_max['min_or_max'] == 'max')]['min_max_value'].mean(), ls='--', linewidth=2, color='red')\n",
    "\n",
    "axes = ret.axes.flat[1]\n",
    "axes.axhline(df_min_max[(df_min_max['y'] == 'Epileptic') & (df_min_max['min_or_max'] == 'max')]['min_max_value'].mean(), ls='--', linewidth=2, color='red')\n",
    "\n",
    "plt.show()"
   ]
  },
  {
   "cell_type": "markdown",
   "metadata": {},
   "source": [
    "<img src=\"Server\\outputImg\\altitude\\extreme_min_max_altitude.png\" style=\"width:99%\">"
   ]
  },
  {
   "cell_type": "markdown",
   "metadata": {},
   "source": [
    "## Ⓜ️ Machine Learning Algorithms: example with neural network"
   ]
  },
  {
   "cell_type": "code",
   "execution_count": null,
   "metadata": {},
   "outputs": [],
   "source": [
    "from sklearn.preprocessing import StandardScaler\n",
    "from sklearn.model_selection import train_test_split\n",
    "\n",
    "\n",
    "# dividing EEG data and epileptic/non-epileptic typology\n",
    "X = data.iloc[:,0:178].values\n",
    "y = data.iloc[:,178].values\n",
    "\n",
    "# dividing in training set and test set \n",
    "X_train, X_test, y_train, y_test = train_test_split(X, y, test_size = 0.2)\n",
    "\n",
    "# scaling\n",
    "sc = StandardScaler()\n",
    "X_train = sc.fit_transform(X_train)\n",
    "X_test = sc.transform(X_test)"
   ]
  },
  {
   "cell_type": "code",
   "execution_count": null,
   "metadata": {},
   "outputs": [],
   "source": [
    "from sklearn.model_selection import GridSearchCV\n",
    "from sklearn.neural_network import MLPClassifier\n",
    "from sklearn.metrics import f1_score, accuracy_score, cohen_kappa_score, jaccard_score, precision_score, recall_score, balanced_accuracy_score\n",
    "from sklearn.metrics import confusion_matrix\n",
    "from sklearn.metrics import classification_report\n",
    "\n",
    "\n",
    "\n",
    "#################################\n",
    "####### Training and Test #######\n",
    "#################################\n",
    "#preparing\n",
    "grid = {\n",
    "    'hidden_layer_sizes': [(20,), (100, 100)],\n",
    "    'activation': ['tanh', 'relu'],\n",
    "    'solver': ['sgd'],\n",
    "    'alpha': [0.0001, 0.05],\n",
    "    'max_iter': [1000]\n",
    "}\n",
    "cross_val = GridSearchCV(MLPClassifier(), grid, cv = 7, n_jobs=2, verbose=10)\n",
    "\n",
    "# training\n",
    "cross_val.fit(X_train, y_train)\n",
    "\n",
    "# test\n",
    "Y_hat_test = cross_val.predict(X_test)\n",
    "\n",
    "# printing results\n",
    "print('Tuned hpyerparameters (best parameters): ', cross_val.best_params_)\n",
    "print('Estimator that was chosen by the search: ', cross_val.best_estimator_)\n",
    "print('Model classification report with GridSearcg CV: \\n', classification_report(y_test, Y_hat_test))\n",
    "\n",
    "\n",
    "\n",
    "#################################\n",
    "########## Evaluation ###########\n",
    "#################################\n",
    "print(\"Accuracy score on the test set: \", accuracy_score(y_test, Y_hat_test))\n",
    "print(\"F1 score on the test set: \", f1_score(y_test, Y_hat_test))\n",
    "print(\"Cohen Kappa Score on the test set: \", cohen_kappa_score(y_test, Y_hat_test))\n",
    "print(\"Jaccard Score on the test set: \", jaccard_score(y_test, Y_hat_test))\n",
    "print(\"Precision Score on the test set: \", precision_score(y_test, Y_hat_test))\n",
    "print(\"Recall Score on the test set: \", recall_score(y_test, Y_hat_test))\n",
    "print(\"Balanced Accuracy Score on the test set: \", balanced_accuracy_score(y_test, Y_hat_test))\n",
    "\n",
    "\n",
    "\n",
    "#################################\n",
    "####### Confusion matrix ########\n",
    "#################################\n",
    "cm = confusion_matrix(y_test, Y_hat_test)\n",
    "fig, ax = plt.subplots()\n",
    "sns.heatmap(cm, ax = ax, annot = True, cmap = plt.cm.Reds, fmt = 'd', xticklabels = ['Non-epileptic', 'Epileptic'], yticklabels = ['Non-epileptic', 'Epileptic'])"
   ]
  },
  {
   "cell_type": "markdown",
   "metadata": {},
   "source": [
    "<style>\n",
    "  img {\n",
    "      display: inline;\n",
    "  }\n",
    "</style>\n",
    "<img src=\"Server\\outputImg\\confusion_matrix\\NeuralNetwork.png\" style=\"width:47%\">\n",
    "<img src=\"Server\\outputImg\\evaluation\\NeuralNetwork.png\" style=\"width:46%\">"
   ]
  },
  {
   "cell_type": "markdown",
   "metadata": {},
   "source": [
    "## ❓ PMML creation: example with neural network"
   ]
  },
  {
   "cell_type": "code",
   "execution_count": null,
   "metadata": {},
   "outputs": [],
   "source": [
    "###### NEEDS TO DOWNGRADE sklearn TO 1.2.2!! ######\n",
    "\n",
    "\n",
    "from sklearn2pmml import sklearn2pmml\n",
    "from sklearn2pmml.pipeline import PMMLPipeline\n",
    "import subprocess\n",
    "\n",
    "\n",
    "grid_pmml = {\n",
    "    'hidden_layer_sizes': (100, 100),\n",
    "    'activation': 'tanh',\n",
    "    'solver': 'sgd',\n",
    "    'alpha': 0.0001,\n",
    "    'max_iter': 1000\n",
    "}\n",
    "\n",
    "# preparing\n",
    "pipeline = PMMLPipeline([(\"classifier\", MLPClassifier(**grid_pmml))])\n",
    "\n",
    "# training\n",
    "pipeline.fit(X, y)\n",
    "\n",
    "# creating .pmml\n",
    "sklearn2pmml(pipeline, \"Server\\\\pmml\\\\neural_network.pmml\")\n",
    "\n",
    "# starting Openscoring with .pmml\n",
    "subprocess.run([\"powershell\", \"java -cp ...Server\\\\pmml\\\\neural_network.pmml\"], shell=True)       "
   ]
  }
 ],
 "metadata": {
  "language_info": {
   "name": "python"
  }
 },
 "nbformat": 4,
 "nbformat_minor": 2
}
